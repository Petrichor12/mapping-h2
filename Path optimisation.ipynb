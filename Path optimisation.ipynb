{
 "cells": [
  {
   "cell_type": "code",
   "execution_count": 78,
   "id": "peaceful-london",
   "metadata": {},
   "outputs": [],
   "source": [
    "import pandas as pd\n",
    "from scipy import spatial\n",
    "import numpy as np\n",
    "import geopy.distance\n",
    "import timeit"
   ]
  },
  {
   "cell_type": "code",
   "execution_count": 79,
   "id": "controlling-tender",
   "metadata": {},
   "outputs": [],
   "source": [
    "#Read in port locations and distances\n",
    "df_distances = pd.read_csv('Data/path/distances.csv')\n",
    "df_ports = pd.read_csv('Data/path/ports.csv')\n",
    "df_routes = pd.read_csv('Data/path/routes.csv')\n",
    "\n",
    "#Read in level 1 solar plant locations [lon, lat, kWh/kWp yearly, average W/m2 yearly]\n",
    "df_ren = pd.read_csv('Data/level1renewable.csv')"
   ]
  },
  {
   "cell_type": "code",
   "execution_count": 80,
   "id": "preliminary-airport",
   "metadata": {},
   "outputs": [
    {
     "data": {
      "text/html": [
       "<div>\n",
       "<style scoped>\n",
       "    .dataframe tbody tr th:only-of-type {\n",
       "        vertical-align: middle;\n",
       "    }\n",
       "\n",
       "    .dataframe tbody tr th {\n",
       "        vertical-align: top;\n",
       "    }\n",
       "\n",
       "    .dataframe thead th {\n",
       "        text-align: right;\n",
       "    }\n",
       "</style>\n",
       "<table border=\"1\" class=\"dataframe\">\n",
       "  <thead>\n",
       "    <tr style=\"text-align: right;\">\n",
       "      <th></th>\n",
       "      <th>Unnamed: 0</th>\n",
       "      <th>PORT_NAME</th>\n",
       "      <th>INDEX_NO</th>\n",
       "      <th>coords</th>\n",
       "    </tr>\n",
       "  </thead>\n",
       "  <tbody>\n",
       "    <tr>\n",
       "      <th>2878</th>\n",
       "      <td>15460</td>\n",
       "      <td>No3</td>\n",
       "      <td>NaN</td>\n",
       "      <td>((39.32683585418208, -6.753334924578667),)</td>\n",
       "    </tr>\n",
       "    <tr>\n",
       "      <th>1755</th>\n",
       "      <td>4988</td>\n",
       "      <td>CHIWAN</td>\n",
       "      <td>57818.0</td>\n",
       "      <td>((110.02077865377504, 19.961165),)</td>\n",
       "    </tr>\n",
       "    <tr>\n",
       "      <th>2636</th>\n",
       "      <td>28113</td>\n",
       "      <td>No 3</td>\n",
       "      <td>NaN</td>\n",
       "      <td>((-71.38733091509586, -17.622709510500002),)</td>\n",
       "    </tr>\n",
       "    <tr>\n",
       "      <th>1258</th>\n",
       "      <td>3461</td>\n",
       "      <td>bz 25-1 offshore</td>\n",
       "      <td>NaN</td>\n",
       "      <td>((119.163335, 38.246665),)</td>\n",
       "    </tr>\n",
       "    <tr>\n",
       "      <th>2493</th>\n",
       "      <td>26764</td>\n",
       "      <td>No 2</td>\n",
       "      <td>NaN</td>\n",
       "      <td>((11.03205827394947, 55.248928014),)</td>\n",
       "    </tr>\n",
       "    <tr>\n",
       "      <th>1789</th>\n",
       "      <td>5430</td>\n",
       "      <td>Cai Lan</td>\n",
       "      <td>NaN</td>\n",
       "      <td>((107.05182309457581, 20.975740000000002),)</td>\n",
       "    </tr>\n",
       "    <tr>\n",
       "      <th>2523</th>\n",
       "      <td>10582</td>\n",
       "      <td>NaN</td>\n",
       "      <td>NaN</td>\n",
       "      <td>((177.41774069610983, -17.602322967723012),)</td>\n",
       "    </tr>\n",
       "    <tr>\n",
       "      <th>1985</th>\n",
       "      <td>6792</td>\n",
       "      <td>NaN</td>\n",
       "      <td>NaN</td>\n",
       "      <td>((-40.24325133343859, -22.667183333333334),)</td>\n",
       "    </tr>\n",
       "    <tr>\n",
       "      <th>1867</th>\n",
       "      <td>6003</td>\n",
       "      <td>Ogdensburg</td>\n",
       "      <td>NaN</td>\n",
       "      <td>((-75.48588802959502, 44.708215),)</td>\n",
       "    </tr>\n",
       "    <tr>\n",
       "      <th>1261</th>\n",
       "      <td>3467</td>\n",
       "      <td>cabedelo</td>\n",
       "      <td>NaN</td>\n",
       "      <td>((-34.840600581457664, -6.97153),)</td>\n",
       "    </tr>\n",
       "  </tbody>\n",
       "</table>\n",
       "</div>"
      ],
      "text/plain": [
       "      Unnamed: 0         PORT_NAME  INDEX_NO  \\\n",
       "2878       15460               No3       NaN   \n",
       "1755        4988            CHIWAN   57818.0   \n",
       "2636       28113              No 3       NaN   \n",
       "1258        3461  bz 25-1 offshore       NaN   \n",
       "2493       26764              No 2       NaN   \n",
       "1789        5430           Cai Lan       NaN   \n",
       "2523       10582               NaN       NaN   \n",
       "1985        6792               NaN       NaN   \n",
       "1867        6003        Ogdensburg       NaN   \n",
       "1261        3467          cabedelo       NaN   \n",
       "\n",
       "                                            coords  \n",
       "2878    ((39.32683585418208, -6.753334924578667),)  \n",
       "1755            ((110.02077865377504, 19.961165),)  \n",
       "2636  ((-71.38733091509586, -17.622709510500002),)  \n",
       "1258                    ((119.163335, 38.246665),)  \n",
       "2493          ((11.03205827394947, 55.248928014),)  \n",
       "1789   ((107.05182309457581, 20.975740000000002),)  \n",
       "2523  ((177.41774069610983, -17.602322967723012),)  \n",
       "1985  ((-40.24325133343859, -22.667183333333334),)  \n",
       "1867            ((-75.48588802959502, 44.708215),)  \n",
       "1261            ((-34.840600581457664, -6.97153),)  "
      ]
     },
     "execution_count": 80,
     "metadata": {},
     "output_type": "execute_result"
    }
   ],
   "source": [
    "df_ports.sample(10)"
   ]
  },
  {
   "cell_type": "code",
   "execution_count": 81,
   "id": "northern-consultancy",
   "metadata": {},
   "outputs": [],
   "source": [
    "lons = df_ren['Longitude']\n",
    "lats = df_ren['Latitude']"
   ]
  },
  {
   "cell_type": "code",
   "execution_count": 82,
   "id": "empirical-learning",
   "metadata": {},
   "outputs": [],
   "source": [
    "coords = df_ports['coords'].values.tolist()\n",
    "coords = [i.strip('()') for i in coords]\n",
    "coords = [i.strip(\"'),'\") for i in coords]\n",
    "coords = [i.split(', ') for i in coords]\n",
    "\n",
    "coords2=[]\n",
    "for i in range(len(coords)):\n",
    "    li=[]\n",
    "    for j in range(2):\n",
    "                li.append(float(coords[i][j]))\n",
    "    coords2.append(li)    "
   ]
  },
  {
   "cell_type": "code",
   "execution_count": 83,
   "id": "enclosed-twist",
   "metadata": {},
   "outputs": [
    {
     "name": "stdout",
     "output_type": "stream",
     "text": [
      "5.671611487518396\n",
      "1815\n"
     ]
    },
    {
     "data": {
      "text/plain": [
       "[10.107777625000002, 33.910669999999996]"
      ]
     },
     "execution_count": 83,
     "metadata": {},
     "output_type": "execute_result"
    }
   ],
   "source": [
    "pt = [6, 30]  # <-- the point to find\n",
    "\n",
    "nearest = coords2[spatial.KDTree(coords2).query(pt)[1]] # <-- the nearest point \n",
    "\n",
    "distance,index = spatial.KDTree(coords2).query(pt)\n",
    "\n",
    "print(distance)\n",
    "print(index)\n",
    "coords2[index]\n"
   ]
  },
  {
   "cell_type": "code",
   "execution_count": 84,
   "id": "equipped-tuner",
   "metadata": {},
   "outputs": [],
   "source": [
    "gen_coords = zip(lons,lats)\n",
    "#closest = []\n",
    "longs = []\n",
    "latis = []\n",
    "distance = []\n",
    "port_code = []\n",
    "\n",
    "for i in gen_coords:\n",
    "    nearest = coords2[spatial.KDTree(coords2).query(i)[1]] # <-- the nearest point \n",
    "    distanceKD,index = spatial.KDTree(coords2).query(i)\n",
    "    \n",
    "    #closest.append(coords2[index])\n",
    "    longs.append(coords2[index][0])\n",
    "    latis.append(coords2[index][1])\n",
    "    port_code.append(df_ports.loc[index,'Unnamed: 0'])\n",
    "    distance.append(geopy.distance.distance((reversed(i)),(reversed(coords2[index]))))\n",
    "    \n",
    "df_ren['Port Code'] = port_code\n",
    "df_ren['Port Long.'] = longs\n",
    "df_ren['Port Lat.'] = latis\n",
    "df_ren['Gen-Port Direct Dist.'] = distance"
   ]
  },
  {
   "cell_type": "code",
   "execution_count": 86,
   "id": "adult-valve",
   "metadata": {},
   "outputs": [],
   "source": [
    "driving_distance = []"
   ]
  },
  {
   "cell_type": "code",
   "execution_count": 87,
   "id": "annoying-theorem",
   "metadata": {},
   "outputs": [],
   "source": [
    "#Don't re-run unless necessary - getting driving distance from all gen. points to closest port. Takes about 50 mins\n",
    "\n",
    "for i in range(0,len(df_ren['Longitude'])):\n",
    "    try:\n",
    "        # call the OSMR API\n",
    "        r = requests.get(f\"http://router.project-osrm.org/route/v1/car/{df_ren.loc[i,'Longitude']},{df_ren.loc[i,'Latitude']};{df_ren.loc[i,'Port Long.']},{df_ren.loc[i,'Port Lat.']}?overview=false\"\"\")\n",
    "        # then you load the response using the json libray\n",
    "        # by default you get only one alternative so you access 0-th element of the `routes`\n",
    "        routes = json.loads(r.content)\n",
    "        route_1 = routes.get(\"routes\")[0]\n",
    "        driving_distance.append(route_1[\"distance\"])\n",
    "    except:\n",
    "        driving_distance.append(None)\n",
    "\n",
    "df_ren['Gen-Port Driving Dist.'] = driving_distance"
   ]
  },
  {
   "cell_type": "code",
   "execution_count": 88,
   "id": "elder-trainer",
   "metadata": {},
   "outputs": [],
   "source": [
    "df_ren.to_csv('Data/renewables.csv')"
   ]
  },
  {
   "cell_type": "code",
   "execution_count": 1,
   "id": "subtle-crazy",
   "metadata": {
    "collapsed": true
   },
   "outputs": [
    {
     "ename": "NameError",
     "evalue": "name 'df_ren' is not defined",
     "output_type": "error",
     "traceback": [
      "\u001b[1;31m---------------------------------------------------------------------------\u001b[0m",
      "\u001b[1;31mNameError\u001b[0m                                 Traceback (most recent call last)",
      "\u001b[1;32m<ipython-input-1-06365ee482a6>\u001b[0m in \u001b[0;36m<module>\u001b[1;34m\u001b[0m\n\u001b[1;32m----> 1\u001b[1;33m \u001b[0mdf_ren\u001b[0m\u001b[1;33m.\u001b[0m\u001b[0msample\u001b[0m\u001b[1;33m(\u001b[0m\u001b[1;36m10\u001b[0m\u001b[1;33m)\u001b[0m\u001b[1;33m\u001b[0m\u001b[1;33m\u001b[0m\u001b[0m\n\u001b[0m",
      "\u001b[1;31mNameError\u001b[0m: name 'df_ren' is not defined"
     ]
    }
   ],
   "source": [
    "df_ren.sample(10)"
   ]
  },
  {
   "cell_type": "code",
   "execution_count": null,
   "id": "dying-japan",
   "metadata": {},
   "outputs": [],
   "source": []
  }
 ],
 "metadata": {
  "kernelspec": {
   "display_name": "Python 3",
   "language": "python",
   "name": "python3"
  },
  "language_info": {
   "codemirror_mode": {
    "name": "ipython",
    "version": 3
   },
   "file_extension": ".py",
   "mimetype": "text/x-python",
   "name": "python",
   "nbconvert_exporter": "python",
   "pygments_lexer": "ipython3",
   "version": "3.9.1"
  }
 },
 "nbformat": 4,
 "nbformat_minor": 5
}
