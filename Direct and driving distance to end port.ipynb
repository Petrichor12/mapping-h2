{
 "cells": [
  {
   "cell_type": "code",
   "execution_count": 1,
   "id": "mighty-executive",
   "metadata": {},
   "outputs": [],
   "source": [
    "import pandas as pd\n",
    "import numpy as np\n",
    "from scipy import spatial\n",
    "import geopy.distance\n",
    "import requests\n",
    "import json\n",
    "import geopy.distance\n",
    "import timeit\n",
    "from datetime import datetime\n",
    "from PvGis import PvGis\n",
    "import numpy as np\n",
    "import pandas as pd\n",
    "import json\n",
    "import matplotlib\n",
    "import rasterio\n",
    "from rasterio.plot import show\n",
    "import rioxarray as rxr\n",
    "from osgeo import gdal\n",
    "import csv\n",
    "import math"
   ]
  },
  {
   "cell_type": "code",
   "execution_count": 2,
   "id": "balanced-finnish",
   "metadata": {},
   "outputs": [],
   "source": [
    "#Read in port locations and distances\n",
    "df_distances = pd.read_csv('Data/path/distances.csv')\n",
    "df_ports = pd.read_csv('Data/path/ports.csv')\n",
    "df_routes = pd.read_csv('Data/path/routes.csv')\n",
    "\n",
    "#Read in level 1 renewable plant locations [lon, lat, kWh/kWp yearly, average W/m2 yearly]\n",
    "df_ren = pd.read_csv('Data/renewables.csv')\n",
    "#delete weird column\n",
    "del df_ren['Unnamed: 0']\n",
    "#change distance to km\n",
    "df_ren['Gen-Port Driving Dist.'] = df_ren['Gen-Port Driving Dist.'] / 1000 "
   ]
  },
  {
   "cell_type": "code",
   "execution_count": 3,
   "id": "radio-customer",
   "metadata": {},
   "outputs": [],
   "source": [
    "end_location = [6.990782485863093, 51.01643476555592]      #Leverkusen  [long, lat]  (opposite of google maps)\n",
    "end_long = end_location[0]\n",
    "end_lat = end_location[1]"
   ]
  },
  {
   "cell_type": "code",
   "execution_count": 4,
   "id": "southwest-zambia",
   "metadata": {},
   "outputs": [],
   "source": [
    "coords = df_ports['coords'].values.tolist()\n",
    "coords = [i.strip('()') for i in coords]\n",
    "coords = [i.strip(\"'),'\") for i in coords]\n",
    "coords = [i.split(', ') for i in coords]\n",
    "\n",
    "coords2=[]\n",
    "for i in range(len(coords)):\n",
    "    li=[]\n",
    "    for j in range(2):\n",
    "                li.append(float(coords[i][j]))\n",
    "    coords2.append(li)   "
   ]
  },
  {
   "cell_type": "code",
   "execution_count": 5,
   "id": "younger-converter",
   "metadata": {},
   "outputs": [
    {
     "name": "stdout",
     "output_type": "stream",
     "text": [
      "2.2968355406932557\n"
     ]
    },
    {
     "data": {
      "text/plain": [
       "[6.978047335715699, 53.313235000000006]"
      ]
     },
     "execution_count": 5,
     "metadata": {},
     "output_type": "execute_result"
    }
   ],
   "source": [
    "#find closest port to end location\n",
    "pt = end_location  # <-- the point to find\n",
    "\n",
    "nearest = coords2[spatial.KDTree(coords2).query(pt)[1]] # <-- the nearest point \n",
    "\n",
    "distance,index = spatial.KDTree(coords2).query(pt)\n",
    "\n",
    "print(distance)\n",
    "end_port_code = df_ports.loc[index, 'Unnamed: 0']\n",
    "#print(index)\n",
    "coords2[index]"
   ]
  },
  {
   "cell_type": "code",
   "execution_count": 6,
   "id": "lovely-thanksgiving",
   "metadata": {},
   "outputs": [],
   "source": [
    "#Get straight line distance\n",
    "direct_distance = geopy.distance.distance((reversed(end_location)),(reversed(coords2[index])))"
   ]
  },
  {
   "cell_type": "code",
   "execution_count": 7,
   "id": "limiting-format",
   "metadata": {},
   "outputs": [],
   "source": [
    "#Get driving distance\n",
    "# call the OSMR API\n",
    "r = requests.get(f\"http://router.project-osrm.org/route/v1/car/{end_location[0]},{end_location[1]};{coords2[index][0]},{coords2[index][1]}?overview=false\"\"\")\n",
    "# then you load the response using the json libray\n",
    "# by default you get only one alternative so you access 0-th element of the `routes`\n",
    "routes = json.loads(r.content)\n",
    "route_1 = routes.get(\"routes\")[0]\n",
    "driving_distance = route_1[\"distance\"] / 1000"
   ]
  },
  {
   "cell_type": "code",
   "execution_count": 8,
   "id": "respective-wyoming",
   "metadata": {},
   "outputs": [
    {
     "name": "stdout",
     "output_type": "stream",
     "text": [
      "255.56747321885115 km\n",
      "305.8304\n",
      "3915\n"
     ]
    }
   ],
   "source": [
    "print(direct_distance)\n",
    "print(driving_distance)\n",
    "print(end_port_code)"
   ]
  },
  {
   "cell_type": "code",
   "execution_count": 9,
   "id": "vulnerable-pottery",
   "metadata": {},
   "outputs": [
    {
     "name": "stdout",
     "output_type": "stream",
     "text": [
      "Time:  6.929999999982783e-05\n"
     ]
    }
   ],
   "source": [
    "start = timeit.default_timer()\n",
    "\n",
    "\n",
    "            \n",
    "stop = timeit.default_timer()\n",
    "\n",
    "print('Time: ', stop - start)"
   ]
  },
  {
   "cell_type": "code",
   "execution_count": null,
   "id": "stuffed-concentrate",
   "metadata": {},
   "outputs": [],
   "source": []
  }
 ],
 "metadata": {
  "kernelspec": {
   "display_name": "Python 3",
   "language": "python",
   "name": "python3"
  },
  "language_info": {
   "codemirror_mode": {
    "name": "ipython",
    "version": 3
   },
   "file_extension": ".py",
   "mimetype": "text/x-python",
   "name": "python",
   "nbconvert_exporter": "python",
   "pygments_lexer": "ipython3",
   "version": "3.9.1"
  }
 },
 "nbformat": 4,
 "nbformat_minor": 5
}
