{
 "cells": [
  {
   "cell_type": "code",
   "execution_count": 5,
   "id": "cbb8e43e",
   "metadata": {},
   "outputs": [],
   "source": [
    "import openrouteservice\n",
    "from openrouteservice import convert\n",
    "import folium\n",
    "import json\n",
    "\n",
    "client = openrouteservice.Client(key='5b3ce3597851110001cf62487a8aff99152f40b9abb404dbb3a74056')\n",
    "\n",
    "coords = ((41.6508390466863, -4.82054142948823),(50.97030604758192, 6.982777877328413))\n",
    "coords = ((-4.82054142948823, 41.6508390466863),(6.982777877328413, 50.97030604758192))\n",
    "res = client.directions(coords)\n",
    "geometry = client.directions(coords)['routes'][0]['geometry']\n",
    "decoded = convert.decode_polyline(geometry)\n",
    "\n",
    "distance_txt = \"<h4> <b>Distance :&nbsp\" + \"<strong>\"+str(round(res['routes'][0]['summary']['distance']/1000,1))+\" Km </strong>\" +\"</h4></b>\"\n",
    "duration_txt = \"<h4> <b>Duration :&nbsp\" + \"<strong>\"+str(round(res['routes'][0]['summary']['duration']/60,1))+\" Mins. </strong>\" +\"</h4></b>\"\n",
    "\n",
    "m = folium.Map(location=[41.64597055955045, -4.821198416231879],zoom_start=10, control_scale=True,tiles=\"cartodbpositron\")\n",
    "folium.GeoJson(decoded).add_child(folium.Popup(distance_txt+duration_txt,max_width=300)).add_to(m)\n",
    "\n",
    "folium.Marker(\n",
    "    location=list(coords[0][::-1]),\n",
    "    popup=\"Start point\",\n",
    "    icon=folium.Icon(color=\"green\"),\n",
    ").add_to(m)\n",
    "\n",
    "folium.Marker(\n",
    "    location=list(coords[1][::-1]),\n",
    "    popup=\"End point\",\n",
    "    icon=folium.Icon(color=\"red\"),\n",
    ").add_to(m)\n",
    "\n",
    "\n",
    "m.save('Results/Graphs/map.html')"
   ]
  },
  {
   "cell_type": "code",
   "execution_count": null,
   "id": "042353b1",
   "metadata": {},
   "outputs": [],
   "source": []
  }
 ],
 "metadata": {
  "kernelspec": {
   "display_name": "Python 3 (ipykernel)",
   "language": "python",
   "name": "python3"
  },
  "language_info": {
   "codemirror_mode": {
    "name": "ipython",
    "version": 3
   },
   "file_extension": ".py",
   "mimetype": "text/x-python",
   "name": "python",
   "nbconvert_exporter": "python",
   "pygments_lexer": "ipython3",
   "version": "3.9.6"
  }
 },
 "nbformat": 4,
 "nbformat_minor": 5
}
