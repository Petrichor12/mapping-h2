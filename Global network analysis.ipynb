{
 "cells": [
  {
   "cell_type": "code",
   "execution_count": 1,
   "id": "582fa11c",
   "metadata": {},
   "outputs": [],
   "source": [
    "from plotly.subplots import make_subplots\n",
    "import plotly.figure_factory as ff\n",
    "import plotly.graph_objs as go\n",
    "import pandas as pd\n",
    "import numpy as np"
   ]
  },
  {
   "cell_type": "code",
   "execution_count": 2,
   "id": "a5314030",
   "metadata": {},
   "outputs": [],
   "source": [
    "df_total_cologne = pd.read_csv('Results/mc/51,7__2030__100__alkaline__True__1000__Pipe/total_cost_per_kg_h2.csv')\n",
    "df = pd.read_csv('Results/final_df.csv')"
   ]
  },
  {
   "cell_type": "code",
   "execution_count": 3,
   "id": "f7c65ded",
   "metadata": {},
   "outputs": [
    {
     "name": "stdout",
     "output_type": "stream",
     "text": [
      "7.663035397155183\n"
     ]
    },
    {
     "data": {
      "text/plain": [
       "Unnamed: 0                               2034\n",
       "Longitude                                 3.0\n",
       "Latitude                                 43.0\n",
       "Solar Energy Potential            1475.695081\n",
       "Wind Power Density                  968.35156\n",
       "Port Code                                7053\n",
       "Port Long.                           3.089498\n",
       "Port Lat.                           43.014494\n",
       "Gen-Port Direct Dist.                7.472438\n",
       "Gen-Port Driving Dist.                12.2792\n",
       "Solar Array Size                2107784.86813\n",
       "Solar CapEx                 1475449407.691118\n",
       "Wind Turbine Power                   3.042166\n",
       "No. of Turbines                    170.407511\n",
       "Wind CapEx                   429426926.926668\n",
       "Yearly Cost Solar             160350040.18082\n",
       "Yearly Cost Wind              68621663.125171\n",
       "Elec Cost Solar                     51.552076\n",
       "Elec Cost Wind                      22.061667\n",
       "Cheaper source                           Wind\n",
       "Yearly gen. cost             263161365.899995\n",
       "Gen. cost per kg H2                  5.263227\n",
       "Shipping Dist.                    8854.545106\n",
       "NH3 Cost                             2.806792\n",
       "LOHC Cost                             2.16386\n",
       "H2 Liq Cost                          3.792897\n",
       "H2 Gas Cost                               NaN\n",
       "Transport Cost per kg H2              2.16386\n",
       "Cheapest Medium                          LOHC\n",
       "Direct Dist.                      4810.632272\n",
       "Driving Dist.                             NaN\n",
       "Yearly Transport Cost        108192989.818097\n",
       "Total Yearly Cost            371354355.718092\n",
       "Total Cost per kg H2                 7.427087\n",
       "Name: 2034, dtype: object"
      ]
     },
     "execution_count": 3,
     "metadata": {},
     "output_type": "execute_result"
    }
   ],
   "source": [
    "total_cost = df_total_cologne\n",
    "\n",
    "total_cost.loc['mean', :] = total_cost.mean()\n",
    "\n",
    "best = np.nanmin((total_cost.mean()))\n",
    "\n",
    "\n",
    "for i,d in total_cost.loc['mean'].items():\n",
    "    if total_cost.loc['mean', i] == best:\n",
    "        location = total_cost.columns.get_loc(i)\n",
    "        \n",
    "total_cost.loc['mean', :] = total_cost.mean()\n",
    "\n",
    "best = np.nanmin((total_cost.mean()))\n",
    "print(best)\n",
    "\n",
    "\n",
    "for i,d in total_cost.loc['mean'].items():\n",
    "    if total_cost.loc['mean', i] == best:\n",
    "        location = total_cost.columns.get_loc(i)\n",
    "        \n",
    "df.iloc[location, :]"
   ]
  },
  {
   "cell_type": "code",
   "execution_count": null,
   "id": "7c381380",
   "metadata": {},
   "outputs": [],
   "source": []
  }
 ],
 "metadata": {
  "kernelspec": {
   "display_name": "Python 3 (ipykernel)",
   "language": "python",
   "name": "python3"
  },
  "language_info": {
   "codemirror_mode": {
    "name": "ipython",
    "version": 3
   },
   "file_extension": ".py",
   "mimetype": "text/x-python",
   "name": "python",
   "nbconvert_exporter": "python",
   "pygments_lexer": "ipython3",
   "version": "3.9.6"
  }
 },
 "nbformat": 4,
 "nbformat_minor": 5
}
